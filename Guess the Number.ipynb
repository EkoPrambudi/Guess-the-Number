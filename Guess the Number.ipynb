{
 "cells": [
  {
   "cell_type": "code",
   "execution_count": 1,
   "id": "92a817fe",
   "metadata": {},
   "outputs": [
    {
     "name": "stdout",
     "output_type": "stream",
     "text": [
      "Welcome to the Guess the Number game!\n",
      "I have chosen a random number between 1 and 100. Can you guess it?\n",
      "Enter your guess: 45\n",
      "Too low! Try again.\n",
      "Enter your guess: 78\n",
      "Too high! Try again.\n",
      "Enter your guess: 60\n",
      "Too low! Try again.\n",
      "Enter your guess: 65\n",
      "Too high! Try again.\n",
      "Enter your guess: 62\n",
      "Too high! Try again.\n",
      "Enter your guess: 61\n",
      "Congratulations! You guessed the number 61 in 6 attempts.\n"
     ]
    }
   ],
   "source": [
    "import random\n",
    "\n",
    "def guess_the_number():\n",
    "    secret_number = random.randint(1, 100)\n",
    "    attempts = 0\n",
    "\n",
    "    print(\"Welcome to the Guess the Number game!\")\n",
    "    print(\"I have chosen a random number between 1 and 100. Can you guess it?\")\n",
    "\n",
    "    while True:\n",
    "        user_guess = int(input(\"Enter your guess: \"))\n",
    "        attempts += 1\n",
    "\n",
    "        if user_guess < secret_number:\n",
    "            print(\"Too low! Try again.\")\n",
    "        elif user_guess > secret_number:\n",
    "            print(\"Too high! Try again.\")\n",
    "        else:\n",
    "            print(f\"Congratulations! You guessed the number {secret_number} in {attempts} attempts.\")\n",
    "            break\n",
    "\n",
    "# Run the guessing game\n",
    "guess_the_number()"
   ]
  },
  {
   "cell_type": "code",
   "execution_count": null,
   "id": "092eec26",
   "metadata": {},
   "outputs": [],
   "source": []
  }
 ],
 "metadata": {
  "kernelspec": {
   "display_name": "Python 3 (ipykernel)",
   "language": "python",
   "name": "python3"
  },
  "language_info": {
   "codemirror_mode": {
    "name": "ipython",
    "version": 3
   },
   "file_extension": ".py",
   "mimetype": "text/x-python",
   "name": "python",
   "nbconvert_exporter": "python",
   "pygments_lexer": "ipython3",
   "version": "3.10.9"
  }
 },
 "nbformat": 4,
 "nbformat_minor": 5
}
